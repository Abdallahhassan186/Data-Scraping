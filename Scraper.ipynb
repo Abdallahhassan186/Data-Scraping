{
 "cells": [
  {
   "cell_type": "code",
   "execution_count": 1,
   "metadata": {},
   "outputs": [],
   "source": [
    "import requests\n",
    "from bs4 import BeautifulSoup as soup\n",
    "import pandas as pd"
   ]
  },
  {
   "cell_type": "code",
   "execution_count": 2,
   "metadata": {},
   "outputs": [],
   "source": [
    "link = \"https://www.indeed.com/jobs?q=data%20analyst&l=united%20states&fromage=last\"\n",
    "request = requests.get(link)\n",
    "page = soup(request.content, 'html.parser')"
   ]
  },
  {
   "cell_type": "code",
   "execution_count": 3,
   "metadata": {},
   "outputs": [],
   "source": [
    "page = soup(request.content, 'html.parser')\n",
    "page=page.find('td', id=\"resultsCol\")"
   ]
  },
  {
   "cell_type": "code",
   "execution_count": 4,
   "metadata": {},
   "outputs": [],
   "source": [
    "titles = []\n",
    "companies = []\n",
    "location = []"
   ]
  },
  {
   "cell_type": "code",
   "execution_count": 5,
   "metadata": {},
   "outputs": [],
   "source": [
    "for k in page.find_all('h2',class_=\"jobtitle\"):\n",
    "    title = k.a.get_text()\n",
    "    titles.append(title)\n",
    "for x in page.find_all('span', class_='location'):\n",
    "    x = x.get_text()\n",
    "    location.append(x)\n",
    "for l in page.find_all('div',class_='companyInfoWrapper'):\n",
    "    company = l.span.get_text()\n",
    "    companies.append(company)"
   ]
  },
  {
   "cell_type": "code",
   "execution_count": 6,
   "metadata": {},
   "outputs": [],
   "source": [
    "df1 = pd.DataFrame(companies)\n",
    "df2 = pd.DataFrame(titles)\n",
    "df3 = pd.DataFrame(location)\n",
    "result = df2.join(df1, how='left', lsuffix='Title', rsuffix='Company')\n",
    "result = result.join(df3)"
   ]
  },
  {
   "cell_type": "code",
   "execution_count": 7,
   "metadata": {},
   "outputs": [],
   "source": [
    "result.to_csv('results.csv')"
   ]
  },
  {
   "cell_type": "code",
   "execution_count": 8,
   "metadata": {},
   "outputs": [
    {
     "data": {
      "text/html": [
       "<div>\n",
       "<style scoped>\n",
       "    .dataframe tbody tr th:only-of-type {\n",
       "        vertical-align: middle;\n",
       "    }\n",
       "\n",
       "    .dataframe tbody tr th {\n",
       "        vertical-align: top;\n",
       "    }\n",
       "\n",
       "    .dataframe thead th {\n",
       "        text-align: right;\n",
       "    }\n",
       "</style>\n",
       "<table border=\"1\" class=\"dataframe\">\n",
       "  <thead>\n",
       "    <tr style=\"text-align: right;\">\n",
       "      <th></th>\n",
       "      <th>0Title</th>\n",
       "      <th>0Company</th>\n",
       "      <th>0</th>\n",
       "    </tr>\n",
       "  </thead>\n",
       "  <tbody>\n",
       "    <tr>\n",
       "      <th>0</th>\n",
       "      <td>Consulting Data Analyst</td>\n",
       "      <td>\\n\\n        Kaiser Permanente</td>\n",
       "      <td>Fontana, CA 92335</td>\n",
       "    </tr>\n",
       "    <tr>\n",
       "      <th>1</th>\n",
       "      <td>Data Analyst</td>\n",
       "      <td>\\n        Honor</td>\n",
       "      <td>San Francisco, CA 94110 (Mission area)</td>\n",
       "    </tr>\n",
       "    <tr>\n",
       "      <th>2</th>\n",
       "      <td>Data Analyst</td>\n",
       "      <td>\\n\\n        DocuSign</td>\n",
       "      <td>San Francisco, CA 94105 (Financial District area)</td>\n",
       "    </tr>\n",
       "    <tr>\n",
       "      <th>3</th>\n",
       "      <td>Data Analyst, Users and Products</td>\n",
       "      <td>\\n\\n        Google</td>\n",
       "      <td>Mountain View, CA</td>\n",
       "    </tr>\n",
       "    <tr>\n",
       "      <th>4</th>\n",
       "      <td>Data Analyst</td>\n",
       "      <td>\\n\\n        IBM</td>\n",
       "      <td>New York, NY 10002 (Lower East Side area)</td>\n",
       "    </tr>\n",
       "    <tr>\n",
       "      <th>5</th>\n",
       "      <td>Marketing Data Analyst Intern</td>\n",
       "      <td>\\n\\n        Grubhub</td>\n",
       "      <td>New York, NY</td>\n",
       "    </tr>\n",
       "    <tr>\n",
       "      <th>6</th>\n",
       "      <td>Intern - Business Process and Customer Data An...</td>\n",
       "      <td>\\n\\n        Airlines Reporting Corporation (ARC)</td>\n",
       "      <td>Arlington, VA</td>\n",
       "    </tr>\n",
       "    <tr>\n",
       "      <th>7</th>\n",
       "      <td>Consulting Data Analyst - SAS, SQL</td>\n",
       "      <td>\\n\\n        Kaiser Permanente</td>\n",
       "      <td>Santa Clara, CA</td>\n",
       "    </tr>\n",
       "    <tr>\n",
       "      <th>8</th>\n",
       "      <td>Sr. Data Analyst</td>\n",
       "      <td>\\n        Wikimedia Foundation</td>\n",
       "      <td>San Francisco, CA 94107-8350</td>\n",
       "    </tr>\n",
       "    <tr>\n",
       "      <th>9</th>\n",
       "      <td>Data Analyst - Downtown Chicago</td>\n",
       "      <td>\\n\\n        AMITA Health</td>\n",
       "      <td>Lisle, IL 60532</td>\n",
       "    </tr>\n",
       "  </tbody>\n",
       "</table>\n",
       "</div>"
      ],
      "text/plain": [
       "                                              0Title  \\\n",
       "0                            Consulting Data Analyst   \n",
       "1                                       Data Analyst   \n",
       "2                                       Data Analyst   \n",
       "3                   Data Analyst, Users and Products   \n",
       "4                                       Data Analyst   \n",
       "5                      Marketing Data Analyst Intern   \n",
       "6  Intern - Business Process and Customer Data An...   \n",
       "7                 Consulting Data Analyst - SAS, SQL   \n",
       "8                                   Sr. Data Analyst   \n",
       "9                    Data Analyst - Downtown Chicago   \n",
       "\n",
       "                                           0Company  \\\n",
       "0                     \\n\\n        Kaiser Permanente   \n",
       "1                                   \\n        Honor   \n",
       "2                              \\n\\n        DocuSign   \n",
       "3                                \\n\\n        Google   \n",
       "4                                   \\n\\n        IBM   \n",
       "5                               \\n\\n        Grubhub   \n",
       "6  \\n\\n        Airlines Reporting Corporation (ARC)   \n",
       "7                     \\n\\n        Kaiser Permanente   \n",
       "8                    \\n        Wikimedia Foundation   \n",
       "9                          \\n\\n        AMITA Health   \n",
       "\n",
       "                                                   0  \n",
       "0                                  Fontana, CA 92335  \n",
       "1             San Francisco, CA 94110 (Mission area)  \n",
       "2  San Francisco, CA 94105 (Financial District area)  \n",
       "3                                  Mountain View, CA  \n",
       "4          New York, NY 10002 (Lower East Side area)  \n",
       "5                                       New York, NY  \n",
       "6                                      Arlington, VA  \n",
       "7                                    Santa Clara, CA  \n",
       "8                       San Francisco, CA 94107-8350  \n",
       "9                                    Lisle, IL 60532  "
      ]
     },
     "execution_count": 8,
     "metadata": {},
     "output_type": "execute_result"
    }
   ],
   "source": [
    "result"
   ]
  },
  {
   "cell_type": "code",
   "execution_count": null,
   "metadata": {},
   "outputs": [],
   "source": []
  }
 ],
 "metadata": {
  "kernelspec": {
   "display_name": "Python 3",
   "language": "python",
   "name": "python3"
  },
  "language_info": {
   "codemirror_mode": {
    "name": "ipython",
    "version": 3
   },
   "file_extension": ".py",
   "mimetype": "text/x-python",
   "name": "python",
   "nbconvert_exporter": "python",
   "pygments_lexer": "ipython3",
   "version": "3.6.4"
  }
 },
 "nbformat": 4,
 "nbformat_minor": 2
}
