{
 "cells": [
  {
   "cell_type": "code",
   "execution_count": 55,
   "metadata": {},
   "outputs": [],
   "source": [
    "import requests\n",
    "from bs4 import BeautifulSoup as soup\n",
    "import pandas as pd\n",
    "from time import time, sleep"
   ]
  },
  {
   "cell_type": "code",
   "execution_count": 56,
   "metadata": {},
   "outputs": [],
   "source": [
    "first='http://www.siccmembers.com.sg/search/alphabetical?ViewCompany_page='\n",
    "last = []\n",
    "for k in range(39):\n",
    "    last.append(k)\n",
    "l=1\n",
    "links = []\n",
    "for l in last:\n",
    "    link = first+str(l)\n",
    "    request = requests.get(link)\n",
    "    page = soup(request.content, 'html.parser')\n",
    "    page = soup(request.content, 'html.parser')\n",
    "    for a in page.find_all('div',class_='left-alpha-full'):\n",
    "        links.append(a.h3)\n",
    "    sleep(1)\n",
    "    l += 1\n",
    "all_links= []\n",
    "for a in links:\n",
    "    all_links.append(a.a['href'])  "
   ]
  },
  {
   "cell_type": "code",
   "execution_count": 57,
   "metadata": {},
   "outputs": [],
   "source": [
    "import numpy as np\n",
    "import os\n",
    "from pathlib import Path\n",
    "allz = np.array(allz)\n",
    "df = pd.DataFrame(allz)\n",
    "\n",
    "output_file = 'linkz.csv'\n",
    "output_dir = Path('H:')\n",
    "output_dir.mkdir(parents=True, exist_ok=True)\n",
    "df.to_csv(output_dir / output_file, index=False)"
   ]
  },
  {
   "cell_type": "code",
   "execution_count": null,
   "metadata": {},
   "outputs": [],
   "source": [
   "# I stopped here but we can add some script to iterate through the list of links and get data from each company and append it to an excel sheet"
   ]
  }
 ],
 "metadata": {
  "kernelspec": {
   "display_name": "Python 3",
   "language": "python",
   "name": "python3"
  },
  "language_info": {
   "codemirror_mode": {
    "name": "ipython",
    "version": 3
   },
   "file_extension": ".py",
   "mimetype": "text/x-python",
   "name": "python",
   "nbconvert_exporter": "python",
   "pygments_lexer": "ipython3",
   "version": "3.6.4"
  }
 },
 "nbformat": 4,
 "nbformat_minor": 2
}
